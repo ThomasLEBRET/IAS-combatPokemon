{
 "cells": [
  {
   "cell_type": "markdown",
   "id": "2ccba1cc",
   "metadata": {},
   "source": [
    "BOUSSOUAR Feriel\n",
    "CORVEST Alex\n",
    "LEBRET Thomas \n",
    "MANSOURI Marc\n",
    "\n",
    "# Énoncé du projet "
   ]
  },
  {
   "cell_type": "markdown",
   "id": "048b402f",
   "metadata": {},
   "source": [
    "\n",
    "## A.1. Chargement des données"
   ]
  },
  {
   "cell_type": "code",
   "execution_count": 45,
   "id": "a87a69ea",
   "metadata": {},
   "outputs": [],
   "source": [
    "import pandas as pd\n",
    "import numpy as np\n",
    "import matplotlib.pyplot as plt\n",
    "import matplotlib.cm as cm\n",
    "import sklearn.decomposition\n",
    "import seaborn as sns\n",
    "\n",
    "\n",
    "import sklearn\n",
    "import sklearn.decomposition\n",
    "import sklearn.svm\n",
    "import sklearn.neighbors"
   ]
  },
  {
   "cell_type": "markdown",
   "id": "e4efa8e6",
   "metadata": {},
   "source": [
    "## A.2. Exploration préliminaire\n",
    "\n",
    "Jetez un oeil aux données, en tracant par exemple les distributions $P(x_d)$ pour chaque attribut $x_d$, regardez la distribution des $y$ (proportion des classes si c'est une classif, etc).\n",
    "\n",
    "Aide: regardez le code au début de `2022-40-exemple-RegLin-CM.ipynb`, plein de tracés y sont faits. Aussi, dans le code du problème des champignons.\n",
    "\n",
    "Identifiez les attributs qu'il va falloir ré-encoder, les désequilibres potentiels entre les classes, etc.\n",
    "\n",
    "> La première chose à faire consiste à se donner un aperçu des données. En général les datasets fournis en\n",
    "ligne viennent avec une petite présentation et parfois quelques visualisations, mais il est recommandé de faire\n",
    "vous même quelques fonctions permettant d’avoir un aperçu des données/une donnée, afin d’avoir une idée des\n",
    "problèmes qui vont se poser (et comme outil de débug). Vous pouvez aussi utiliser des outils autres (comme\n",
    "t-SNE), sans forcément les maîtriser à fond, dans cette phase exploratoire.\n",
    "Si les données vous semblent de trop mauvaise qualité, ou que la tâche est trop ardue, changez de données!\n",
    "\n"
   ]
  },
  {
   "cell_type": "code",
   "execution_count": 46,
   "id": "68e52746",
   "metadata": {},
   "outputs": [
    {
     "data": {
      "text/html": [
       "<div>\n",
       "<style scoped>\n",
       "    .dataframe tbody tr th:only-of-type {\n",
       "        vertical-align: middle;\n",
       "    }\n",
       "\n",
       "    .dataframe tbody tr th {\n",
       "        vertical-align: top;\n",
       "    }\n",
       "\n",
       "    .dataframe thead th {\n",
       "        text-align: right;\n",
       "    }\n",
       "</style>\n",
       "<table border=\"1\" class=\"dataframe\">\n",
       "  <thead>\n",
       "    <tr style=\"text-align: right;\">\n",
       "      <th></th>\n",
       "      <th>ID</th>\n",
       "      <th>NAME</th>\n",
       "      <th>TYP1</th>\n",
       "      <th>TYP2</th>\n",
       "      <th>HP</th>\n",
       "      <th>ATK</th>\n",
       "      <th>DEF</th>\n",
       "      <th>SP.ATK</th>\n",
       "      <th>SP.DEF</th>\n",
       "      <th>SPE</th>\n",
       "      <th>GEN</th>\n",
       "      <th>LEG</th>\n",
       "    </tr>\n",
       "  </thead>\n",
       "  <tbody>\n",
       "    <tr>\n",
       "      <th>0</th>\n",
       "      <td>1</td>\n",
       "      <td>Bulbasaur</td>\n",
       "      <td>Grass</td>\n",
       "      <td>Poison</td>\n",
       "      <td>45</td>\n",
       "      <td>49</td>\n",
       "      <td>49</td>\n",
       "      <td>65</td>\n",
       "      <td>65</td>\n",
       "      <td>45</td>\n",
       "      <td>1</td>\n",
       "      <td>False</td>\n",
       "    </tr>\n",
       "    <tr>\n",
       "      <th>1</th>\n",
       "      <td>2</td>\n",
       "      <td>Ivysaur</td>\n",
       "      <td>Grass</td>\n",
       "      <td>Poison</td>\n",
       "      <td>60</td>\n",
       "      <td>62</td>\n",
       "      <td>63</td>\n",
       "      <td>80</td>\n",
       "      <td>80</td>\n",
       "      <td>60</td>\n",
       "      <td>1</td>\n",
       "      <td>False</td>\n",
       "    </tr>\n",
       "    <tr>\n",
       "      <th>2</th>\n",
       "      <td>3</td>\n",
       "      <td>Venusaur</td>\n",
       "      <td>Grass</td>\n",
       "      <td>Poison</td>\n",
       "      <td>80</td>\n",
       "      <td>82</td>\n",
       "      <td>83</td>\n",
       "      <td>100</td>\n",
       "      <td>100</td>\n",
       "      <td>80</td>\n",
       "      <td>1</td>\n",
       "      <td>False</td>\n",
       "    </tr>\n",
       "    <tr>\n",
       "      <th>3</th>\n",
       "      <td>4</td>\n",
       "      <td>Mega Venusaur</td>\n",
       "      <td>Grass</td>\n",
       "      <td>Poison</td>\n",
       "      <td>80</td>\n",
       "      <td>100</td>\n",
       "      <td>123</td>\n",
       "      <td>122</td>\n",
       "      <td>120</td>\n",
       "      <td>80</td>\n",
       "      <td>1</td>\n",
       "      <td>False</td>\n",
       "    </tr>\n",
       "    <tr>\n",
       "      <th>4</th>\n",
       "      <td>5</td>\n",
       "      <td>Charmander</td>\n",
       "      <td>Fire</td>\n",
       "      <td>NaN</td>\n",
       "      <td>39</td>\n",
       "      <td>52</td>\n",
       "      <td>43</td>\n",
       "      <td>60</td>\n",
       "      <td>50</td>\n",
       "      <td>65</td>\n",
       "      <td>1</td>\n",
       "      <td>False</td>\n",
       "    </tr>\n",
       "  </tbody>\n",
       "</table>\n",
       "</div>"
      ],
      "text/plain": [
       "   ID           NAME   TYP1    TYP2  HP  ATK  DEF  SP.ATK  SP.DEF  SPE  GEN  \\\n",
       "0   1      Bulbasaur  Grass  Poison  45   49   49      65      65   45    1   \n",
       "1   2        Ivysaur  Grass  Poison  60   62   63      80      80   60    1   \n",
       "2   3       Venusaur  Grass  Poison  80   82   83     100     100   80    1   \n",
       "3   4  Mega Venusaur  Grass  Poison  80  100  123     122     120   80    1   \n",
       "4   5     Charmander   Fire     NaN  39   52   43      60      50   65    1   \n",
       "\n",
       "     LEG  \n",
       "0  False  \n",
       "1  False  \n",
       "2  False  \n",
       "3  False  \n",
       "4  False  "
      ]
     },
     "execution_count": 46,
     "metadata": {},
     "output_type": "execute_result"
    }
   ],
   "source": [
    "filename = \"pokemon.csv\"\n",
    "names = ['ID', 'NAME', 'TYP1', 'TYP2', 'HP', 'ATK', 'DEF', 'SP.ATK', 'SP.DEF', 'SPE', 'GEN', 'LEG']\n",
    "dataset = pd.read_csv(filename, names=names)\n",
    "dataset.head(5)"
   ]
  },
  {
   "cell_type": "code",
   "execution_count": 47,
   "id": "bf919a13",
   "metadata": {},
   "outputs": [
    {
     "name": "stdout",
     "output_type": "stream",
     "text": [
      "(800, 12)\n"
     ]
    },
    {
     "data": {
      "text/plain": [
       "((800, 11), (800,))"
      ]
     },
     "execution_count": 47,
     "metadata": {},
     "output_type": "execute_result"
    }
   ],
   "source": [
    "print(dataset.shape)\n",
    "\n",
    "features = dataset.columns[:-1]\n",
    "label = dataset.columns[-1]\n",
    "\n",
    "X = dataset[features].values\n",
    "Y = dataset[label].values\n",
    "\n",
    "X.shape, Y.shape"
   ]
  },
  {
   "cell_type": "code",
   "execution_count": 48,
   "id": "08426166",
   "metadata": {},
   "outputs": [
    {
     "data": {
      "text/html": [
       "<div>\n",
       "<style scoped>\n",
       "    .dataframe tbody tr th:only-of-type {\n",
       "        vertical-align: middle;\n",
       "    }\n",
       "\n",
       "    .dataframe tbody tr th {\n",
       "        vertical-align: top;\n",
       "    }\n",
       "\n",
       "    .dataframe thead th {\n",
       "        text-align: right;\n",
       "    }\n",
       "</style>\n",
       "<table border=\"1\" class=\"dataframe\">\n",
       "  <thead>\n",
       "    <tr style=\"text-align: right;\">\n",
       "      <th></th>\n",
       "      <th>ID</th>\n",
       "      <th>NAME</th>\n",
       "      <th>TYP1</th>\n",
       "      <th>TYP2</th>\n",
       "      <th>HP</th>\n",
       "      <th>ATK</th>\n",
       "      <th>DEF</th>\n",
       "      <th>SP.ATK</th>\n",
       "      <th>SP.DEF</th>\n",
       "      <th>SPE</th>\n",
       "      <th>GEN</th>\n",
       "      <th>LEG</th>\n",
       "    </tr>\n",
       "  </thead>\n",
       "  <tbody>\n",
       "    <tr>\n",
       "      <th>count</th>\n",
       "      <td>800.0000</td>\n",
       "      <td>799</td>\n",
       "      <td>800</td>\n",
       "      <td>414</td>\n",
       "      <td>800.000000</td>\n",
       "      <td>800.000000</td>\n",
       "      <td>800.000000</td>\n",
       "      <td>800.000000</td>\n",
       "      <td>800.000000</td>\n",
       "      <td>800.000000</td>\n",
       "      <td>800.00000</td>\n",
       "      <td>800</td>\n",
       "    </tr>\n",
       "    <tr>\n",
       "      <th>unique</th>\n",
       "      <td>NaN</td>\n",
       "      <td>799</td>\n",
       "      <td>18</td>\n",
       "      <td>18</td>\n",
       "      <td>NaN</td>\n",
       "      <td>NaN</td>\n",
       "      <td>NaN</td>\n",
       "      <td>NaN</td>\n",
       "      <td>NaN</td>\n",
       "      <td>NaN</td>\n",
       "      <td>NaN</td>\n",
       "      <td>2</td>\n",
       "    </tr>\n",
       "    <tr>\n",
       "      <th>top</th>\n",
       "      <td>NaN</td>\n",
       "      <td>Arbok</td>\n",
       "      <td>Water</td>\n",
       "      <td>Flying</td>\n",
       "      <td>NaN</td>\n",
       "      <td>NaN</td>\n",
       "      <td>NaN</td>\n",
       "      <td>NaN</td>\n",
       "      <td>NaN</td>\n",
       "      <td>NaN</td>\n",
       "      <td>NaN</td>\n",
       "      <td>False</td>\n",
       "    </tr>\n",
       "    <tr>\n",
       "      <th>freq</th>\n",
       "      <td>NaN</td>\n",
       "      <td>1</td>\n",
       "      <td>112</td>\n",
       "      <td>97</td>\n",
       "      <td>NaN</td>\n",
       "      <td>NaN</td>\n",
       "      <td>NaN</td>\n",
       "      <td>NaN</td>\n",
       "      <td>NaN</td>\n",
       "      <td>NaN</td>\n",
       "      <td>NaN</td>\n",
       "      <td>735</td>\n",
       "    </tr>\n",
       "    <tr>\n",
       "      <th>mean</th>\n",
       "      <td>400.5000</td>\n",
       "      <td>NaN</td>\n",
       "      <td>NaN</td>\n",
       "      <td>NaN</td>\n",
       "      <td>69.258750</td>\n",
       "      <td>79.001250</td>\n",
       "      <td>73.842500</td>\n",
       "      <td>72.820000</td>\n",
       "      <td>71.902500</td>\n",
       "      <td>68.277500</td>\n",
       "      <td>3.32375</td>\n",
       "      <td>NaN</td>\n",
       "    </tr>\n",
       "    <tr>\n",
       "      <th>std</th>\n",
       "      <td>231.0844</td>\n",
       "      <td>NaN</td>\n",
       "      <td>NaN</td>\n",
       "      <td>NaN</td>\n",
       "      <td>25.534669</td>\n",
       "      <td>32.457366</td>\n",
       "      <td>31.183501</td>\n",
       "      <td>32.722294</td>\n",
       "      <td>27.828916</td>\n",
       "      <td>29.060474</td>\n",
       "      <td>1.66129</td>\n",
       "      <td>NaN</td>\n",
       "    </tr>\n",
       "    <tr>\n",
       "      <th>min</th>\n",
       "      <td>1.0000</td>\n",
       "      <td>NaN</td>\n",
       "      <td>NaN</td>\n",
       "      <td>NaN</td>\n",
       "      <td>1.000000</td>\n",
       "      <td>5.000000</td>\n",
       "      <td>5.000000</td>\n",
       "      <td>10.000000</td>\n",
       "      <td>20.000000</td>\n",
       "      <td>5.000000</td>\n",
       "      <td>1.00000</td>\n",
       "      <td>NaN</td>\n",
       "    </tr>\n",
       "    <tr>\n",
       "      <th>25%</th>\n",
       "      <td>200.7500</td>\n",
       "      <td>NaN</td>\n",
       "      <td>NaN</td>\n",
       "      <td>NaN</td>\n",
       "      <td>50.000000</td>\n",
       "      <td>55.000000</td>\n",
       "      <td>50.000000</td>\n",
       "      <td>49.750000</td>\n",
       "      <td>50.000000</td>\n",
       "      <td>45.000000</td>\n",
       "      <td>2.00000</td>\n",
       "      <td>NaN</td>\n",
       "    </tr>\n",
       "    <tr>\n",
       "      <th>50%</th>\n",
       "      <td>400.5000</td>\n",
       "      <td>NaN</td>\n",
       "      <td>NaN</td>\n",
       "      <td>NaN</td>\n",
       "      <td>65.000000</td>\n",
       "      <td>75.000000</td>\n",
       "      <td>70.000000</td>\n",
       "      <td>65.000000</td>\n",
       "      <td>70.000000</td>\n",
       "      <td>65.000000</td>\n",
       "      <td>3.00000</td>\n",
       "      <td>NaN</td>\n",
       "    </tr>\n",
       "    <tr>\n",
       "      <th>75%</th>\n",
       "      <td>600.2500</td>\n",
       "      <td>NaN</td>\n",
       "      <td>NaN</td>\n",
       "      <td>NaN</td>\n",
       "      <td>80.000000</td>\n",
       "      <td>100.000000</td>\n",
       "      <td>90.000000</td>\n",
       "      <td>95.000000</td>\n",
       "      <td>90.000000</td>\n",
       "      <td>90.000000</td>\n",
       "      <td>5.00000</td>\n",
       "      <td>NaN</td>\n",
       "    </tr>\n",
       "    <tr>\n",
       "      <th>max</th>\n",
       "      <td>800.0000</td>\n",
       "      <td>NaN</td>\n",
       "      <td>NaN</td>\n",
       "      <td>NaN</td>\n",
       "      <td>255.000000</td>\n",
       "      <td>190.000000</td>\n",
       "      <td>230.000000</td>\n",
       "      <td>194.000000</td>\n",
       "      <td>230.000000</td>\n",
       "      <td>180.000000</td>\n",
       "      <td>6.00000</td>\n",
       "      <td>NaN</td>\n",
       "    </tr>\n",
       "  </tbody>\n",
       "</table>\n",
       "</div>"
      ],
      "text/plain": [
       "              ID   NAME   TYP1    TYP2          HP         ATK         DEF  \\\n",
       "count   800.0000    799    800     414  800.000000  800.000000  800.000000   \n",
       "unique       NaN    799     18      18         NaN         NaN         NaN   \n",
       "top          NaN  Arbok  Water  Flying         NaN         NaN         NaN   \n",
       "freq         NaN      1    112      97         NaN         NaN         NaN   \n",
       "mean    400.5000    NaN    NaN     NaN   69.258750   79.001250   73.842500   \n",
       "std     231.0844    NaN    NaN     NaN   25.534669   32.457366   31.183501   \n",
       "min       1.0000    NaN    NaN     NaN    1.000000    5.000000    5.000000   \n",
       "25%     200.7500    NaN    NaN     NaN   50.000000   55.000000   50.000000   \n",
       "50%     400.5000    NaN    NaN     NaN   65.000000   75.000000   70.000000   \n",
       "75%     600.2500    NaN    NaN     NaN   80.000000  100.000000   90.000000   \n",
       "max     800.0000    NaN    NaN     NaN  255.000000  190.000000  230.000000   \n",
       "\n",
       "            SP.ATK      SP.DEF         SPE        GEN    LEG  \n",
       "count   800.000000  800.000000  800.000000  800.00000    800  \n",
       "unique         NaN         NaN         NaN        NaN      2  \n",
       "top            NaN         NaN         NaN        NaN  False  \n",
       "freq           NaN         NaN         NaN        NaN    735  \n",
       "mean     72.820000   71.902500   68.277500    3.32375    NaN  \n",
       "std      32.722294   27.828916   29.060474    1.66129    NaN  \n",
       "min      10.000000   20.000000    5.000000    1.00000    NaN  \n",
       "25%      49.750000   50.000000   45.000000    2.00000    NaN  \n",
       "50%      65.000000   70.000000   65.000000    3.00000    NaN  \n",
       "75%      95.000000   90.000000   90.000000    5.00000    NaN  \n",
       "max     194.000000  230.000000  180.000000    6.00000    NaN  "
      ]
     },
     "execution_count": 48,
     "metadata": {},
     "output_type": "execute_result"
    }
   ],
   "source": [
    "#La commande \"describe\" est assez magique.. elle calcule des fréquences, \n",
    "#ou des stats plus quantitatives, selon les données présentes\n",
    "#description des donnéess\n",
    "dataset.describe(include = 'all') "
   ]
  },
  {
   "cell_type": "code",
   "execution_count": 49,
   "id": "84e14af3",
   "metadata": {},
   "outputs": [
    {
     "name": "stdout",
     "output_type": "stream",
     "text": [
      "<class 'pandas.core.frame.DataFrame'>\n",
      "RangeIndex: 800 entries, 0 to 799\n",
      "Data columns (total 12 columns):\n",
      " #   Column  Non-Null Count  Dtype \n",
      "---  ------  --------------  ----- \n",
      " 0   ID      800 non-null    int64 \n",
      " 1   NAME    799 non-null    object\n",
      " 2   TYP1    800 non-null    object\n",
      " 3   TYP2    414 non-null    object\n",
      " 4   HP      800 non-null    int64 \n",
      " 5   ATK     800 non-null    int64 \n",
      " 6   DEF     800 non-null    int64 \n",
      " 7   SP.ATK  800 non-null    int64 \n",
      " 8   SP.DEF  800 non-null    int64 \n",
      " 9   SPE     800 non-null    int64 \n",
      " 10  GEN     800 non-null    int64 \n",
      " 11  LEG     800 non-null    bool  \n",
      "dtypes: bool(1), int64(8), object(3)\n",
      "memory usage: 69.7+ KB\n"
     ]
    }
   ],
   "source": [
    "#verification de valeurs manquentes\n",
    "#informations sur les données\n",
    "dataset.info()"
   ]
  },
  {
   "cell_type": "code",
   "execution_count": 50,
   "id": "cee3e836",
   "metadata": {},
   "outputs": [
    {
     "data": {
      "text/plain": [
       "ID          0\n",
       "NAME        1\n",
       "TYP1        0\n",
       "TYP2      386\n",
       "HP          0\n",
       "ATK         0\n",
       "DEF         0\n",
       "SP.ATK      0\n",
       "SP.DEF      0\n",
       "SPE         0\n",
       "GEN         0\n",
       "LEG         0\n",
       "dtype: int64"
      ]
     },
     "execution_count": 50,
     "metadata": {},
     "output_type": "execute_result"
    }
   ],
   "source": [
    "#renvoie le nombre de valeurs manquantes dans l'ensemble de données.\n",
    "dataset.isnull().sum()\n"
   ]
  },
  {
   "cell_type": "code",
   "execution_count": 51,
   "id": "bed87ed1",
   "metadata": {},
   "outputs": [
    {
     "name": "stdout",
     "output_type": "stream",
     "text": [
      "0      False\n",
      "1      False\n",
      "2      False\n",
      "3      False\n",
      "4      False\n",
      "       ...  \n",
      "795     True\n",
      "796     True\n",
      "797     True\n",
      "798     True\n",
      "799     True\n",
      "Name: LEG, Length: 800, dtype: bool\n"
     ]
    }
   ],
   "source": [
    "#accéder a la colonne Legendary\n",
    "print(dataset['LEG'])"
   ]
  },
  {
   "cell_type": "code",
   "execution_count": 52,
   "id": "2b7aa7bf",
   "metadata": {},
   "outputs": [
    {
     "data": {
      "text/plain": [
       "800"
      ]
     },
     "execution_count": 52,
     "metadata": {},
     "output_type": "execute_result"
    }
   ],
   "source": [
    "len(dataset['NAME'].unique())"
   ]
  },
  {
   "cell_type": "code",
   "execution_count": 53,
   "id": "e034738e",
   "metadata": {},
   "outputs": [
    {
     "data": {
      "text/plain": [
       "Text(0, 0.5, 'Frequency')"
      ]
     },
     "execution_count": 53,
     "metadata": {},
     "output_type": "execute_result"
    },
    {
     "data": {
      "image/png": "[encoded data removed]",
      "text/plain": [
       "<Figure size 1008x576 with 1 Axes>"
      ]
     },
     "metadata": {
      "needs_background": "light"
     },
     "output_type": "display_data"
    }
   ],
   "source": [
    "# Plot the number of pokemon present in each category of \"type 1\"\n",
    "ax = dataset['TYP1'].value_counts().plot(kind='bar',\n",
    "                                    figsize=(14,8),\n",
    "                                    title=\"Number of pokemons based on their type 1\")\n",
    "ax.set_xlabel(\"Pokemon Type 1\")\n",
    "ax.set_ylabel(\"Frequency\")\n",
    "\n"
   ]
  },
  {
   "cell_type": "code",
   "execution_count": 54,
   "id": "481b416e",
   "metadata": {},
   "outputs": [
    {
     "data": {
      "text/plain": [
       "Text(0, 0.5, 'Frequency')"
      ]
     },
     "execution_count": 54,
     "metadata": {},
     "output_type": "execute_result"
    },
    {
     "data": {
      "image/png": "[encoded data removed]",
      "text/plain": [
       "<Figure size 1008x576 with 1 Axes>"
      ]
     },
     "metadata": {
      "needs_background": "light"
     },
     "output_type": "display_data"
    }
   ],
   "source": [
    "ax = dataset['TYP2'].value_counts().plot(kind='bar',\n",
    "                                    figsize=(14,8),\n",
    "                                    title=\"Number of pokemons based on their type 2\")\n",
    "ax.set_xlabel(\"Pokemon Type 2\")\n",
    "ax.set_ylabel(\"Frequency\")"
   ]
  },
  {
   "cell_type": "code",
   "execution_count": 55,
   "id": "76b33633",
   "metadata": {},
   "outputs": [
    {
     "data": {
      "image/png": "[encoded data removed]",
      "text/plain": [
       "<Figure size 576x432 with 1 Axes>"
      ]
     },
     "metadata": {},
     "output_type": "display_data"
    }
   ],
   "source": [
    "generation =  dict(dataset['GEN'].value_counts())\n",
    "gen_counts = generation.values() # Nb de pokémon à chaque génération\n",
    "gen = generation.keys()  # Type de génération\n",
    "\n",
    "fig = plt.figure(figsize=(8, 6))\n",
    "fig.suptitle(\"Percentage of generation based distribution of pokemon\")\n",
    "ax = fig.add_axes([0,0,1,1])\n",
    "explode = (0.1, 0, 0, 0, 0, 0)\n",
    "ax.axis('equal')\n",
    "\n",
    "\n",
    "plt.pie(gen_counts, labels = gen,autopct='%1.2f%%', shadow=True, explode=explode)\n",
    "plt.show()"
   ]
  },
  {
   "cell_type": "code",
   "execution_count": 56,
   "id": "dc9b3ea1",
   "metadata": {},
   "outputs": [
    {
     "data": {
      "image/png": "[encoded data removed]",
      "text/plain": [
       "<Figure size 576x432 with 1 Axes>"
      ]
     },
     "metadata": {},
     "output_type": "display_data"
    }
   ],
   "source": [
    "generation =  dict(dataset['LEG'].value_counts())\n",
    "gen_counts = generation.values() \n",
    "gen = generation.keys()\n",
    "\n",
    "fig = plt.figure(figsize=(8, 6))\n",
    "fig.suptitle(\"Percentage of lengendary pokemon in dataset (False: Not Lengendary, True: Legendary)\")\n",
    "ax = fig.add_axes([0,0,1,1])\n",
    "explode = (0.2, 0)  # explode 1st slice\n",
    "ax.axis('equal')\n",
    "\n",
    "\n",
    "plt.pie(gen_counts, labels = gen,autopct='%1.2f%%', shadow=True, explode=explode)\n",
    "plt.show()\n",
    "\n",
    "\n"
   ]
  },
  {
   "cell_type": "code",
   "execution_count": 57,
   "id": "32b921e1",
   "metadata": {},
   "outputs": [
    {
     "data": {
      "image/png": "[encoded data removed]",
      "text/plain": [
       "<Figure size 432x288 with 2 Axes>"
      ]
     },
     "metadata": {
      "needs_background": "light"
     },
     "output_type": "display_data"
    }
   ],
   "source": [
    "#Relation entre attaque et défense\n",
    "fig, axes = plt.subplots(nrows=2,ncols=1)\n",
    "dataset.plot(kind = \"hist\",y = \"ATK\",bins = 50, ax = axes[0])\n",
    "dataset.plot(kind = \"hist\",y = \"DEF\",bins = 50,ax = axes[1])\n",
    "\n",
    "plt.show()"
   ]
  },
  {
   "cell_type": "code",
   "execution_count": null,
   "id": "a7d126aa",
   "metadata": {},
   "outputs": [],
   "source": []
  },
  {
   "cell_type": "code",
   "execution_count": null,
   "id": "aa6c5ae2",
   "metadata": {},
   "outputs": [],
   "source": [
    "\n"
   ]
  },
  {
   "cell_type": "code",
   "execution_count": 58,
   "id": "99046e30",
   "metadata": {},
   "outputs": [
    {
     "data": {
      "image/png": "[encoded data removed]",
      "text/plain": [
       "<Figure size 720x720 with 2 Axes>"
      ]
     },
     "metadata": {
      "needs_background": "light"
     },
     "output_type": "display_data"
    }
   ],
   "source": [
    "#Matrice de corrélation (vérification de la relation entre différentes quantités)\n",
    "\n",
    "f,ax = plt.subplots(figsize=(10, 10))\n",
    "sns.heatmap(data=dataset.corr(), annot=True, linewidths=.5, fmt= '.1f',ax=ax)\n",
    "plt.show()\n"
   ]
  },
  {
   "cell_type": "code",
   "execution_count": null,
   "id": "8108517c",
   "metadata": {},
   "outputs": [],
   "source": [
    "\n"
   ]
  },
  {
   "cell_type": "code",
   "execution_count": null,
   "id": "1ef6169d",
   "metadata": {},
   "outputs": [],
   "source": []
  },
  {
   "cell_type": "markdown",
   "id": "955c08a7",
   "metadata": {},
   "source": [
    "### Features non utiles \n",
    "- NO\n",
    "- NAME\n",
    "\n",
    "### A réencoder \n",
    "- [ ] TYPE1\n",
    "- [ ] TYP2\n",
    "- [ ] GEN"
   ]
  },
  {
   "cell_type": "markdown",
   "id": "09e8dfd2",
   "metadata": {},
   "source": [
    "## A.3. Définition de la tâche, et choix d’une métrique de performance\n",
    "\n",
    "> Cette partie consiste vraiment à suivre les questions (a,b,c) posées dans le TD 5. Pensez à regarder aussi le\n",
    "corrigé de cet exercice/les exos équivalents dans les annales! Ici on donne quelques idées en plus:\n",
    "Selon la complexité du dataset (estimée lors de la visualisation), viser un objectif non ridicule mais pas trop\n",
    "ambitieux non plus (vous avez relativement peu de temps).\n",
    "Selon le type de tâche ambitionnée (régression ou classification, etc), déterminer une ou des possibilités de\n",
    "“métriques” qui constitueront votre score. Il faut faire attention aux biais dans les données: par exemple si les\n",
    "différentes classes ne sont pas du tout équilibrées, il faut définir une métrique qui donne un poids conséquent y\n",
    "compris aux classes peu fréquentes. Faites un premier choix rapidement, si il s’avère mauvais, vous corrigerez\n",
    "plus tard."
   ]
  },
  {
   "cell_type": "markdown",
   "id": "abe4153a",
   "metadata": {},
   "source": [
    " a) Le but est d'identifier si un champignon est comestible ou pas, à partir de certaines informations (features ou attributs) données sur ces champignons. On souhaite que l'algorithme fonctionne y compris sur des champignons dont l'espèce n'était pas présente dans le training set.\n",
    " \n",
    " b) C'est une tâche de classification binaire, car on a que deux classes ici (contrairement à de la classification multi-classe par exemple). \n",
    " \n",
    " c) Quelle est la structure des données \n",
    " Tout les attributs sont catégoriels. Il faudra penser à les encoder sous forme de one-hot vectors. Comme tous sont catégoriels, c'est pratique, on pourra appliquer les mêmes types de pré-traitement à tous les attributs."
   ]
  },
  {
   "cell_type": "code",
   "execution_count": 59,
   "id": "2e73d9f8",
   "metadata": {},
   "outputs": [],
   "source": [
    "#Le but est de prédire l'issue d'un combat de "
   ]
  },
  {
   "cell_type": "markdown",
   "id": "d281d399",
   "metadata": {},
   "source": [
    "\n",
    "\n",
    "tache : classification catégorielle pour les types 1 et 2, le reste est régressif"
   ]
  },
  {
   "cell_type": "code",
   "execution_count": null,
   "id": "558ca938",
   "metadata": {},
   "outputs": [],
   "source": []
  },
  {
   "cell_type": "code",
   "execution_count": null,
   "id": "04f3de96",
   "metadata": {},
   "outputs": [],
   "source": []
  },
  {
   "cell_type": "markdown",
   "id": "e65f95e9",
   "metadata": {},
   "source": [
    "## B.1 Nettoyage (data cleaning), Encodage (encoding) et train-test-validation split\n",
    "\n",
    "Aide: regardez le code dans `2022-101-CM-exemple-encodage-oneHot.ipynb`\n",
    "\n",
    "> Cette partie consiste vraiment à suivre la question (e) posée dans le TD 5. Pensez à regarder aussi le corrigé\n",
    "de cet exercice/les exos équivalents dans les annales! Ici on donne quelques idées en plus:\n",
    ">\n",
    "> Si les données ne sont pas propres, il se peut que vous ayez à les nettoyer. Par exemple, il se peut que\n",
    "certaines valeurs soient manquantes (il faudra alors les remplacer par quelque chose, à choisir, ou modifier\n",
    "l’algorithme d’apprentissage en conséquence). Une autre possibilité est que leur format soit problématique, par\n",
    "exemple des images qui ne sont pas toutes de la même résolution, ou encore pas directement lisibles en python.\n",
    ">\n",
    "> Cette étape peut être réalisée une fois pour toute, en général.\n",
    "\n",
    "Parfois aussi certaines features sont inutiles voire nuisibles, il faut les supprimer à la main."
   ]
  },
  {
   "cell_type": "code",
   "execution_count": 60,
   "id": "1d698cd8",
   "metadata": {},
   "outputs": [
    {
     "data": {
      "text/html": [
       "<div>\n",
       "<style scoped>\n",
       "    .dataframe tbody tr th:only-of-type {\n",
       "        vertical-align: middle;\n",
       "    }\n",
       "\n",
       "    .dataframe tbody tr th {\n",
       "        vertical-align: top;\n",
       "    }\n",
       "\n",
       "    .dataframe thead th {\n",
       "        text-align: right;\n",
       "    }\n",
       "</style>\n",
       "<table border=\"1\" class=\"dataframe\">\n",
       "  <thead>\n",
       "    <tr style=\"text-align: right;\">\n",
       "      <th></th>\n",
       "      <th>ID</th>\n",
       "      <th>NAME</th>\n",
       "      <th>TYP1</th>\n",
       "      <th>TYP2</th>\n",
       "      <th>HP</th>\n",
       "      <th>ATK</th>\n",
       "      <th>DEF</th>\n",
       "      <th>SP.ATK</th>\n",
       "      <th>SP.DEF</th>\n",
       "      <th>SPE</th>\n",
       "      <th>GEN</th>\n",
       "      <th>LEG</th>\n",
       "    </tr>\n",
       "  </thead>\n",
       "  <tbody>\n",
       "    <tr>\n",
       "      <th>62</th>\n",
       "      <td>63</td>\n",
       "      <td>NaN</td>\n",
       "      <td>Fighting</td>\n",
       "      <td>NaN</td>\n",
       "      <td>65</td>\n",
       "      <td>105</td>\n",
       "      <td>60</td>\n",
       "      <td>60</td>\n",
       "      <td>70</td>\n",
       "      <td>95</td>\n",
       "      <td>1</td>\n",
       "      <td>False</td>\n",
       "    </tr>\n",
       "  </tbody>\n",
       "</table>\n",
       "</div>"
      ],
      "text/plain": [
       "    ID NAME      TYP1 TYP2  HP  ATK  DEF  SP.ATK  SP.DEF  SPE  GEN    LEG\n",
       "62  63  NaN  Fighting  NaN  65  105   60      60      70   95    1  False"
      ]
     },
     "metadata": {},
     "output_type": "display_data"
    },
    {
     "data": {
      "text/html": [
       "<div>\n",
       "<style scoped>\n",
       "    .dataframe tbody tr th:only-of-type {\n",
       "        vertical-align: middle;\n",
       "    }\n",
       "\n",
       "    .dataframe tbody tr th {\n",
       "        vertical-align: top;\n",
       "    }\n",
       "\n",
       "    .dataframe thead th {\n",
       "        text-align: right;\n",
       "    }\n",
       "</style>\n",
       "<table border=\"1\" class=\"dataframe\">\n",
       "  <thead>\n",
       "    <tr style=\"text-align: right;\">\n",
       "      <th></th>\n",
       "      <th>ID</th>\n",
       "      <th>NAME</th>\n",
       "      <th>TYP1</th>\n",
       "      <th>TYP2</th>\n",
       "      <th>HP</th>\n",
       "      <th>ATK</th>\n",
       "      <th>DEF</th>\n",
       "      <th>SP.ATK</th>\n",
       "      <th>SP.DEF</th>\n",
       "      <th>SPE</th>\n",
       "      <th>GEN</th>\n",
       "      <th>LEG</th>\n",
       "    </tr>\n",
       "  </thead>\n",
       "  <tbody>\n",
       "    <tr>\n",
       "      <th>62</th>\n",
       "      <td>63</td>\n",
       "      <td>Abra</td>\n",
       "      <td>Fighting</td>\n",
       "      <td>NaN</td>\n",
       "      <td>65</td>\n",
       "      <td>105</td>\n",
       "      <td>60</td>\n",
       "      <td>60</td>\n",
       "      <td>70</td>\n",
       "      <td>95</td>\n",
       "      <td>1</td>\n",
       "      <td>False</td>\n",
       "    </tr>\n",
       "    <tr>\n",
       "      <th>68</th>\n",
       "      <td>69</td>\n",
       "      <td>Abra</td>\n",
       "      <td>Psychic</td>\n",
       "      <td>NaN</td>\n",
       "      <td>25</td>\n",
       "      <td>20</td>\n",
       "      <td>15</td>\n",
       "      <td>105</td>\n",
       "      <td>55</td>\n",
       "      <td>90</td>\n",
       "      <td>1</td>\n",
       "      <td>False</td>\n",
       "    </tr>\n",
       "  </tbody>\n",
       "</table>\n",
       "</div>"
      ],
      "text/plain": [
       "    ID  NAME      TYP1 TYP2  HP  ATK  DEF  SP.ATK  SP.DEF  SPE  GEN    LEG\n",
       "62  63  Abra  Fighting  NaN  65  105   60      60      70   95    1  False\n",
       "68  69  Abra   Psychic  NaN  25   20   15     105      55   90    1  False"
      ]
     },
     "metadata": {},
     "output_type": "display_data"
    }
   ],
   "source": [
    "## j'ai remarqué que dans la ligne 63 le name est null, donc je vais attribuer name \"Abraa  ce pokemon\n",
    "display(dataset.loc[dataset['NAME'].isnull()==True])\n",
    "name = 'Abra'\n",
    "dataset.loc[62, 'NAME'] = name\n",
    "display(dataset[dataset['NAME']==name])"
   ]
  },
  {
   "cell_type": "code",
   "execution_count": 61,
   "id": "7c49eca9",
   "metadata": {},
   "outputs": [],
   "source": [
    "#j'ai remplacé les valeurs NAN avec des valeurs \n",
    "dataset[\"TYP2\"] = dataset[\"TYP2\"].fillna(\"NA\")"
   ]
  },
  {
   "cell_type": "code",
   "execution_count": 62,
   "id": "75e458b5",
   "metadata": {},
   "outputs": [
    {
     "data": {
      "text/plain": [
       "ID        0\n",
       "NAME      0\n",
       "TYP1      0\n",
       "TYP2      0\n",
       "HP        0\n",
       "ATK       0\n",
       "DEF       0\n",
       "SP.ATK    0\n",
       "SP.DEF    0\n",
       "SPE       0\n",
       "GEN       0\n",
       "LEG       0\n",
       "dtype: int64"
      ]
     },
     "execution_count": 62,
     "metadata": {},
     "output_type": "execute_result"
    }
   ],
   "source": [
    "# on vérifie si ya pas NAN\n",
    "dataset.isnull().sum()"
   ]
  },
  {
   "cell_type": "code",
   "execution_count": 63,
   "id": "611b7041",
   "metadata": {},
   "outputs": [
    {
     "data": {
      "text/plain": [
       "0      False\n",
       "1      False\n",
       "2      False\n",
       "3      False\n",
       "4      False\n",
       "       ...  \n",
       "795    False\n",
       "796    False\n",
       "797    False\n",
       "798    False\n",
       "799    False\n",
       "Length: 800, dtype: bool"
      ]
     },
     "execution_count": 63,
     "metadata": {},
     "output_type": "execute_result"
    }
   ],
   "source": [
    "#S'il y a un enregistrement en double, on conserve le premier\n",
    "dataset.duplicated(keep='first')"
   ]
  },
  {
   "cell_type": "code",
   "execution_count": null,
   "id": "92ee3a44",
   "metadata": {},
   "outputs": [],
   "source": []
  },
  {
   "cell_type": "code",
   "execution_count": 89,
   "id": "33084fdf",
   "metadata": {},
   "outputs": [],
   "source": [
    "# Prend un dataset en paramètre et retourne le dataset nettoyé \n",
    "def cleanDataset(dataset):\n",
    "    dataset['Total'] = dataset['HP'] + dataset['ATK'] + dataset['DEF'] + dataset['SP.ATK'] + dataset['SP.DEF'] + dataset['SPE']\n",
    "    dataset = dataset.drop(columns=['ID','HP', 'ATK', 'DEF', 'SP.ATK', 'SP.DEF', 'SPE',\"GEN\", \"LEG\"])\n",
    "    return dataset"
   ]
  },
  {
   "cell_type": "code",
   "execution_count": 90,
   "id": "1399bb0c",
   "metadata": {},
   "outputs": [],
   "source": [
    "cleanDataset = cleanDataset(dataset)"
   ]
  },
  {
   "cell_type": "code",
   "execution_count": 91,
   "id": "67be67e7",
   "metadata": {},
   "outputs": [
    {
     "data": {
      "text/html": [
       "<div>\n",
       "<style scoped>\n",
       "    .dataframe tbody tr th:only-of-type {\n",
       "        vertical-align: middle;\n",
       "    }\n",
       "\n",
       "    .dataframe tbody tr th {\n",
       "        vertical-align: top;\n",
       "    }\n",
       "\n",
       "    .dataframe thead th {\n",
       "        text-align: right;\n",
       "    }\n",
       "</style>\n",
       "<table border=\"1\" class=\"dataframe\">\n",
       "  <thead>\n",
       "    <tr style=\"text-align: right;\">\n",
       "      <th></th>\n",
       "      <th>NAME</th>\n",
       "      <th>TYP1</th>\n",
       "      <th>TYP2</th>\n",
       "      <th>Total</th>\n",
       "    </tr>\n",
       "  </thead>\n",
       "  <tbody>\n",
       "    <tr>\n",
       "      <th>0</th>\n",
       "      <td>Bulbasaur</td>\n",
       "      <td>Grass</td>\n",
       "      <td>Poison</td>\n",
       "      <td>318</td>\n",
       "    </tr>\n",
       "    <tr>\n",
       "      <th>1</th>\n",
       "      <td>Ivysaur</td>\n",
       "      <td>Grass</td>\n",
       "      <td>Poison</td>\n",
       "      <td>405</td>\n",
       "    </tr>\n",
       "    <tr>\n",
       "      <th>2</th>\n",
       "      <td>Venusaur</td>\n",
       "      <td>Grass</td>\n",
       "      <td>Poison</td>\n",
       "      <td>525</td>\n",
       "    </tr>\n",
       "    <tr>\n",
       "      <th>3</th>\n",
       "      <td>Mega Venusaur</td>\n",
       "      <td>Grass</td>\n",
       "      <td>Poison</td>\n",
       "      <td>625</td>\n",
       "    </tr>\n",
       "    <tr>\n",
       "      <th>4</th>\n",
       "      <td>Charmander</td>\n",
       "      <td>Fire</td>\n",
       "      <td>NA</td>\n",
       "      <td>309</td>\n",
       "    </tr>\n",
       "    <tr>\n",
       "      <th>...</th>\n",
       "      <td>...</td>\n",
       "      <td>...</td>\n",
       "      <td>...</td>\n",
       "      <td>...</td>\n",
       "    </tr>\n",
       "    <tr>\n",
       "      <th>795</th>\n",
       "      <td>Diancie</td>\n",
       "      <td>Rock</td>\n",
       "      <td>Fairy</td>\n",
       "      <td>600</td>\n",
       "    </tr>\n",
       "    <tr>\n",
       "      <th>796</th>\n",
       "      <td>Mega Diancie</td>\n",
       "      <td>Rock</td>\n",
       "      <td>Fairy</td>\n",
       "      <td>700</td>\n",
       "    </tr>\n",
       "    <tr>\n",
       "      <th>797</th>\n",
       "      <td>Hoopa Confined</td>\n",
       "      <td>Psychic</td>\n",
       "      <td>Ghost</td>\n",
       "      <td>600</td>\n",
       "    </tr>\n",
       "    <tr>\n",
       "      <th>798</th>\n",
       "      <td>Hoopa Unbound</td>\n",
       "      <td>Psychic</td>\n",
       "      <td>Dark</td>\n",
       "      <td>680</td>\n",
       "    </tr>\n",
       "    <tr>\n",
       "      <th>799</th>\n",
       "      <td>Volcanion</td>\n",
       "      <td>Fire</td>\n",
       "      <td>Water</td>\n",
       "      <td>600</td>\n",
       "    </tr>\n",
       "  </tbody>\n",
       "</table>\n",
       "<p>800 rows × 4 columns</p>\n",
       "</div>"
      ],
      "text/plain": [
       "               NAME     TYP1    TYP2  Total\n",
       "0         Bulbasaur    Grass  Poison    318\n",
       "1           Ivysaur    Grass  Poison    405\n",
       "2          Venusaur    Grass  Poison    525\n",
       "3     Mega Venusaur    Grass  Poison    625\n",
       "4        Charmander     Fire      NA    309\n",
       "..              ...      ...     ...    ...\n",
       "795         Diancie     Rock   Fairy    600\n",
       "796    Mega Diancie     Rock   Fairy    700\n",
       "797  Hoopa Confined  Psychic   Ghost    600\n",
       "798   Hoopa Unbound  Psychic    Dark    680\n",
       "799       Volcanion     Fire   Water    600\n",
       "\n",
       "[800 rows x 4 columns]"
      ]
     },
     "execution_count": 91,
     "metadata": {},
     "output_type": "execute_result"
    }
   ],
   "source": [
    "cleanDataset"
   ]
  },
  {
   "cell_type": "code",
   "execution_count": 97,
   "id": "0e073b0c",
   "metadata": {},
   "outputs": [
    {
     "data": {
      "text/plain": [
       "(800, 4)"
      ]
     },
     "execution_count": 97,
     "metadata": {},
     "output_type": "execute_result"
    }
   ],
   "source": [
    "cleanDataset.shape"
   ]
  },
  {
   "cell_type": "code",
   "execution_count": 95,
   "id": "b6664f6c",
   "metadata": {},
   "outputs": [
    {
     "data": {
      "text/html": [
       "<div>\n",
       "<style scoped>\n",
       "    .dataframe tbody tr th:only-of-type {\n",
       "        vertical-align: middle;\n",
       "    }\n",
       "\n",
       "    .dataframe tbody tr th {\n",
       "        vertical-align: top;\n",
       "    }\n",
       "\n",
       "    .dataframe thead th {\n",
       "        text-align: right;\n",
       "    }\n",
       "</style>\n",
       "<table border=\"1\" class=\"dataframe\">\n",
       "  <thead>\n",
       "    <tr style=\"text-align: right;\">\n",
       "      <th></th>\n",
       "      <th>NAME</th>\n",
       "      <th>TYP1</th>\n",
       "      <th>TYP2</th>\n",
       "      <th>Total</th>\n",
       "    </tr>\n",
       "  </thead>\n",
       "  <tbody>\n",
       "    <tr>\n",
       "      <th>426</th>\n",
       "      <td>Mega Rayquaza</td>\n",
       "      <td>Dragon</td>\n",
       "      <td>Flying</td>\n",
       "      <td>780</td>\n",
       "    </tr>\n",
       "    <tr>\n",
       "      <th>164</th>\n",
       "      <td>Mega Mewtwo Y</td>\n",
       "      <td>Psychic</td>\n",
       "      <td>NA</td>\n",
       "      <td>780</td>\n",
       "    </tr>\n",
       "    <tr>\n",
       "      <th>163</th>\n",
       "      <td>Mega Mewtwo X</td>\n",
       "      <td>Psychic</td>\n",
       "      <td>Fighting</td>\n",
       "      <td>780</td>\n",
       "    </tr>\n",
       "    <tr>\n",
       "      <th>422</th>\n",
       "      <td>Primal Kyogre</td>\n",
       "      <td>Water</td>\n",
       "      <td>NA</td>\n",
       "      <td>770</td>\n",
       "    </tr>\n",
       "    <tr>\n",
       "      <th>424</th>\n",
       "      <td>Primal Groudon</td>\n",
       "      <td>Ground</td>\n",
       "      <td>Fire</td>\n",
       "      <td>770</td>\n",
       "    </tr>\n",
       "    <tr>\n",
       "      <th>552</th>\n",
       "      <td>Arceus</td>\n",
       "      <td>Normal</td>\n",
       "      <td>NA</td>\n",
       "      <td>720</td>\n",
       "    </tr>\n",
       "    <tr>\n",
       "      <th>712</th>\n",
       "      <td>Kyurem White Kyurem</td>\n",
       "      <td>Dragon</td>\n",
       "      <td>Ice</td>\n",
       "      <td>700</td>\n",
       "    </tr>\n",
       "    <tr>\n",
       "      <th>711</th>\n",
       "      <td>Kyurem Black Kyurem</td>\n",
       "      <td>Dragon</td>\n",
       "      <td>Ice</td>\n",
       "      <td>700</td>\n",
       "    </tr>\n",
       "    <tr>\n",
       "      <th>409</th>\n",
       "      <td>Mega Salamence</td>\n",
       "      <td>Dragon</td>\n",
       "      <td>Flying</td>\n",
       "      <td>700</td>\n",
       "    </tr>\n",
       "    <tr>\n",
       "      <th>413</th>\n",
       "      <td>Mega Metagross</td>\n",
       "      <td>Steel</td>\n",
       "      <td>Psychic</td>\n",
       "      <td>700</td>\n",
       "    </tr>\n",
       "  </tbody>\n",
       "</table>\n",
       "</div>"
      ],
      "text/plain": [
       "                    NAME     TYP1      TYP2  Total\n",
       "426        Mega Rayquaza   Dragon    Flying    780\n",
       "164        Mega Mewtwo Y  Psychic        NA    780\n",
       "163        Mega Mewtwo X  Psychic  Fighting    780\n",
       "422        Primal Kyogre    Water        NA    770\n",
       "424       Primal Groudon   Ground      Fire    770\n",
       "552               Arceus   Normal        NA    720\n",
       "712  Kyurem White Kyurem   Dragon       Ice    700\n",
       "711  Kyurem Black Kyurem   Dragon       Ice    700\n",
       "409       Mega Salamence   Dragon    Flying    700\n",
       "413       Mega Metagross    Steel   Psychic    700"
      ]
     },
     "execution_count": 95,
     "metadata": {},
     "output_type": "execute_result"
    }
   ],
   "source": [
    "cleanDataset.sort_values('Total',ascending=False).head(10)"
   ]
  },
  {
   "cell_type": "code",
   "execution_count": null,
   "id": "27bcdf25",
   "metadata": {},
   "outputs": [],
   "source": []
  },
  {
   "cell_type": "code",
   "execution_count": null,
   "id": "fc045318",
   "metadata": {},
   "outputs": [],
   "source": []
  },
  {
   "cell_type": "code",
   "execution_count": null,
   "id": "16e7b025",
   "metadata": {},
   "outputs": [],
   "source": []
  },
  {
   "cell_type": "code",
   "execution_count": null,
   "id": "fb1a6c03",
   "metadata": {},
   "outputs": [],
   "source": []
  },
  {
   "cell_type": "code",
   "execution_count": null,
   "id": "20e2e855",
   "metadata": {},
   "outputs": [],
   "source": []
  },
  {
   "cell_type": "code",
   "execution_count": 71,
   "id": "9dba7bda",
   "metadata": {},
   "outputs": [],
   "source": [
    "dataset[['TYP1', 'TYP2']] = dataset[['TYP1','TYP2']].astype('category')"
   ]
  },
  {
   "cell_type": "code",
   "execution_count": 72,
   "id": "2e4e1880",
   "metadata": {},
   "outputs": [
    {
     "data": {
      "text/plain": [
       "ID           int64\n",
       "NAME        object\n",
       "TYP1      category\n",
       "TYP2      category\n",
       "HP           int64\n",
       "ATK          int64\n",
       "DEF          int64\n",
       "SP.ATK       int64\n",
       "SP.DEF       int64\n",
       "SPE          int64\n",
       "GEN          int64\n",
       "LEG          int64\n",
       "Total        int64\n",
       "dtype: object"
      ]
     },
     "execution_count": 72,
     "metadata": {},
     "output_type": "execute_result"
    }
   ],
   "source": [
    "dataset.dtypes"
   ]
  },
  {
   "cell_type": "code",
   "execution_count": null,
   "id": "8fbf36f1",
   "metadata": {},
   "outputs": [],
   "source": []
  },
  {
   "cell_type": "code",
   "execution_count": null,
   "id": "00729733",
   "metadata": {},
   "outputs": [],
   "source": []
  },
  {
   "cell_type": "code",
   "execution_count": null,
   "id": "05ea6dbc",
   "metadata": {},
   "outputs": [],
   "source": []
  },
  {
   "cell_type": "code",
   "execution_count": null,
   "id": "42b62d49",
   "metadata": {},
   "outputs": [],
   "source": []
  },
  {
   "cell_type": "code",
   "execution_count": null,
   "id": "cccacde2",
   "metadata": {},
   "outputs": [],
   "source": [
    "\n"
   ]
  },
  {
   "cell_type": "code",
   "execution_count": null,
   "id": "1729a191",
   "metadata": {},
   "outputs": [],
   "source": []
  },
  {
   "cell_type": "markdown",
   "id": "7a89e5cb",
   "metadata": {},
   "source": [
    "### Train test split \n",
    "\n",
    "Si vous comptez utiliser la cross vlaidation automatique de sklearn, pas besoin de définir à la main le validation set.\n",
    "Dans ce cas il suffir d'avoir un train set et un test set. Le train set sera découpé de différentes façon lors de la Cross-Validation, et la moyenne sera calculée automatiquement.\n",
    "\n",
    "\n",
    "> C’est aussi le moment de définir le train set, validation set, et test set. Assez souvent, il suffit de mélanger les\n",
    "données (par exemple si MNIST venait avec les chiffres triés dans l’ordre, il faudrait mélanger pour que le test\n",
    "set ne soit pas rempli que de 8 et de 9!). Mais attention, parfois on ne peut pas tout mélanger d’un coup, par\n",
    "exemple si les données sont issues d’une série temporelle et sont donc corrélées, il faut autant que possible laisser\n",
    "ensemble les points proches dans le temps (car corrélés), et séparer les données entre les sets train/validation/test\n",
    "de sorte que ces 3 jeux de données soient indépendants (contiennent des données indépendantes)."
   ]
  },
  {
   "cell_type": "code",
   "execution_count": 75,
   "id": "aa843ecd",
   "metadata": {},
   "outputs": [
    {
     "data": {
      "text/html": [
       "<div>\n",
       "<style scoped>\n",
       "    .dataframe tbody tr th:only-of-type {\n",
       "        vertical-align: middle;\n",
       "    }\n",
       "\n",
       "    .dataframe tbody tr th {\n",
       "        vertical-align: top;\n",
       "    }\n",
       "\n",
       "    .dataframe thead th {\n",
       "        text-align: right;\n",
       "    }\n",
       "</style>\n",
       "<table border=\"1\" class=\"dataframe\">\n",
       "  <thead>\n",
       "    <tr style=\"text-align: right;\">\n",
       "      <th></th>\n",
       "      <th>First_pokemon</th>\n",
       "      <th>Second_pokemon</th>\n",
       "      <th>Winner</th>\n",
       "    </tr>\n",
       "  </thead>\n",
       "  <tbody>\n",
       "    <tr>\n",
       "      <th>0</th>\n",
       "      <td>First_pokemon</td>\n",
       "      <td>Second_pokemon</td>\n",
       "      <td>Winner</td>\n",
       "    </tr>\n",
       "    <tr>\n",
       "      <th>1</th>\n",
       "      <td>266</td>\n",
       "      <td>298</td>\n",
       "      <td>298</td>\n",
       "    </tr>\n",
       "    <tr>\n",
       "      <th>2</th>\n",
       "      <td>702</td>\n",
       "      <td>701</td>\n",
       "      <td>701</td>\n",
       "    </tr>\n",
       "    <tr>\n",
       "      <th>3</th>\n",
       "      <td>191</td>\n",
       "      <td>668</td>\n",
       "      <td>668</td>\n",
       "    </tr>\n",
       "  </tbody>\n",
       "</table>\n",
       "</div>"
      ],
      "text/plain": [
       "   First_pokemon  Second_pokemon  Winner\n",
       "0  First_pokemon  Second_pokemon  Winner\n",
       "1            266             298     298\n",
       "2            702             701     701\n",
       "3            191             668     668"
      ]
     },
     "execution_count": 75,
     "metadata": {},
     "output_type": "execute_result"
    }
   ],
   "source": [
    "filename = \"combats.csv\"\n",
    "names = ['First_pokemon', 'Second_pokemon', 'Winner']\n",
    "data = pd.read_csv(filename, names=names)\n",
    "data.head(4)"
   ]
  },
  {
   "cell_type": "code",
   "execution_count": 76,
   "id": "5bb747d1",
   "metadata": {},
   "outputs": [],
   "source": [
    "features = data.columns[:-1]"
   ]
  },
  {
   "cell_type": "code",
   "execution_count": 77,
   "id": "780c0602",
   "metadata": {},
   "outputs": [],
   "source": [
    "label = data.columns[-1]"
   ]
  },
  {
   "cell_type": "code",
   "execution_count": 78,
   "id": "3fd05f9f",
   "metadata": {},
   "outputs": [],
   "source": [
    "## on convertit les tableaux pandasen tabeaux numpy\n",
    "X = data[features].values\n",
    "Y = data[label].values"
   ]
  },
  {
   "cell_type": "code",
   "execution_count": 79,
   "id": "71815fe2",
   "metadata": {},
   "outputs": [],
   "source": [
    "#Séparer les données en entrainement/test (30% pour le test, 70% l'entrainement)\n",
    "#0n fait le fameux train-test split (séparation des données en ensemble d'entrainement+ensemble de test)\n",
    "# on utilise la méthode  sklearn.model_selection.train_test_split\n"
   ]
  },
  {
   "cell_type": "code",
   "execution_count": 80,
   "id": "73e85061",
   "metadata": {},
   "outputs": [
    {
     "data": {
      "text/plain": [
       "(50001, 2)"
      ]
     },
     "execution_count": 80,
     "metadata": {},
     "output_type": "execute_result"
    }
   ],
   "source": [
    "X.shape "
   ]
  },
  {
   "cell_type": "code",
   "execution_count": 81,
   "id": "3c0b4dbc",
   "metadata": {},
   "outputs": [],
   "source": [
    "from sklearn.model_selection import train_test_split"
   ]
  },
  {
   "cell_type": "code",
   "execution_count": 82,
   "id": "fe58cea9",
   "metadata": {},
   "outputs": [
    {
     "name": "stdout",
     "output_type": "stream",
     "text": [
      "train set: (40000, 2)\n",
      "test set: (10001, 2)\n"
     ]
    }
   ],
   "source": [
    "X_train, X_test, Y_train, Y_test = train_test_split(X, Y, test_size=0.2)\n",
    "print('train set:', X_train.shape)\n",
    "print('test set:', X_test.shape)\n"
   ]
  },
  {
   "cell_type": "code",
   "execution_count": 83,
   "id": "6566020a",
   "metadata": {},
   "outputs": [
    {
     "ename": "ValueError",
     "evalue": "'c' argument must be a color, a sequence of colors, or a sequence of numbers, not ['196' '283' '20' ... '134' '725' '317']",
     "output_type": "error",
     "traceback": [
      "\u001b[0;31m---------------------------------------------------------------------------\u001b[0m",
      "\u001b[0;31mValueError\u001b[0m                                Traceback (most recent call last)",
      "\u001b[0;32m~/opt/anaconda3/lib/python3.8/site-packages/matplotlib/axes/_axes.py\u001b[0m in \u001b[0;36m_parse_scatter_color_args\u001b[0;34m(c, edgecolors, kwargs, xsize, get_next_color_func)\u001b[0m\n\u001b[1;32m   4290\u001b[0m             \u001b[0;32mtry\u001b[0m\u001b[0;34m:\u001b[0m  \u001b[0;31m# Is 'c' acceptable as PathCollection facecolors?\u001b[0m\u001b[0;34m\u001b[0m\u001b[0;34m\u001b[0m\u001b[0m\n\u001b[0;32m-> 4291\u001b[0;31m                 \u001b[0mcolors\u001b[0m \u001b[0;34m=\u001b[0m \u001b[0mmcolors\u001b[0m\u001b[0;34m.\u001b[0m\u001b[0mto_rgba_array\u001b[0m\u001b[0;34m(\u001b[0m\u001b[0mc\u001b[0m\u001b[0;34m)\u001b[0m\u001b[0;34m\u001b[0m\u001b[0;34m\u001b[0m\u001b[0m\n\u001b[0m\u001b[1;32m   4292\u001b[0m             \u001b[0;32mexcept\u001b[0m \u001b[0;34m(\u001b[0m\u001b[0mTypeError\u001b[0m\u001b[0;34m,\u001b[0m \u001b[0mValueError\u001b[0m\u001b[0;34m)\u001b[0m \u001b[0;32mas\u001b[0m \u001b[0merr\u001b[0m\u001b[0;34m:\u001b[0m\u001b[0;34m\u001b[0m\u001b[0;34m\u001b[0m\u001b[0m\n",
      "\u001b[0;32m~/opt/anaconda3/lib/python3.8/site-packages/matplotlib/colors.py\u001b[0m in \u001b[0;36mto_rgba_array\u001b[0;34m(c, alpha)\u001b[0m\n\u001b[1;32m    340\u001b[0m     \u001b[0;32melse\u001b[0m\u001b[0;34m:\u001b[0m\u001b[0;34m\u001b[0m\u001b[0;34m\u001b[0m\u001b[0m\n\u001b[0;32m--> 341\u001b[0;31m         \u001b[0;32mreturn\u001b[0m \u001b[0mnp\u001b[0m\u001b[0;34m.\u001b[0m\u001b[0marray\u001b[0m\u001b[0;34m(\u001b[0m\u001b[0;34m[\u001b[0m\u001b[0mto_rgba\u001b[0m\u001b[0;34m(\u001b[0m\u001b[0mcc\u001b[0m\u001b[0;34m,\u001b[0m \u001b[0malpha\u001b[0m\u001b[0;34m)\u001b[0m \u001b[0;32mfor\u001b[0m \u001b[0mcc\u001b[0m \u001b[0;32min\u001b[0m \u001b[0mc\u001b[0m\u001b[0;34m]\u001b[0m\u001b[0;34m)\u001b[0m\u001b[0;34m\u001b[0m\u001b[0;34m\u001b[0m\u001b[0m\n\u001b[0m\u001b[1;32m    342\u001b[0m \u001b[0;34m\u001b[0m\u001b[0m\n",
      "\u001b[0;32m~/opt/anaconda3/lib/python3.8/site-packages/matplotlib/colors.py\u001b[0m in \u001b[0;36m<listcomp>\u001b[0;34m(.0)\u001b[0m\n\u001b[1;32m    340\u001b[0m     \u001b[0;32melse\u001b[0m\u001b[0;34m:\u001b[0m\u001b[0;34m\u001b[0m\u001b[0;34m\u001b[0m\u001b[0m\n\u001b[0;32m--> 341\u001b[0;31m         \u001b[0;32mreturn\u001b[0m \u001b[0mnp\u001b[0m\u001b[0;34m.\u001b[0m\u001b[0marray\u001b[0m\u001b[0;34m(\u001b[0m\u001b[0;34m[\u001b[0m\u001b[0mto_rgba\u001b[0m\u001b[0;34m(\u001b[0m\u001b[0mcc\u001b[0m\u001b[0;34m,\u001b[0m \u001b[0malpha\u001b[0m\u001b[0;34m)\u001b[0m \u001b[0;32mfor\u001b[0m \u001b[0mcc\u001b[0m \u001b[0;32min\u001b[0m \u001b[0mc\u001b[0m\u001b[0;34m]\u001b[0m\u001b[0;34m)\u001b[0m\u001b[0;34m\u001b[0m\u001b[0;34m\u001b[0m\u001b[0m\n\u001b[0m\u001b[1;32m    342\u001b[0m \u001b[0;34m\u001b[0m\u001b[0m\n",
      "\u001b[0;32m~/opt/anaconda3/lib/python3.8/site-packages/matplotlib/colors.py\u001b[0m in \u001b[0;36mto_rgba\u001b[0;34m(c, alpha)\u001b[0m\n\u001b[1;32m    188\u001b[0m     \u001b[0;32mif\u001b[0m \u001b[0mrgba\u001b[0m \u001b[0;32mis\u001b[0m \u001b[0;32mNone\u001b[0m\u001b[0;34m:\u001b[0m  \u001b[0;31m# Suppress exception chaining of cache lookup failure.\u001b[0m\u001b[0;34m\u001b[0m\u001b[0;34m\u001b[0m\u001b[0m\n\u001b[0;32m--> 189\u001b[0;31m         \u001b[0mrgba\u001b[0m \u001b[0;34m=\u001b[0m \u001b[0m_to_rgba_no_colorcycle\u001b[0m\u001b[0;34m(\u001b[0m\u001b[0mc\u001b[0m\u001b[0;34m,\u001b[0m \u001b[0malpha\u001b[0m\u001b[0;34m)\u001b[0m\u001b[0;34m\u001b[0m\u001b[0;34m\u001b[0m\u001b[0m\n\u001b[0m\u001b[1;32m    190\u001b[0m         \u001b[0;32mtry\u001b[0m\u001b[0;34m:\u001b[0m\u001b[0;34m\u001b[0m\u001b[0;34m\u001b[0m\u001b[0m\n",
      "\u001b[0;32m~/opt/anaconda3/lib/python3.8/site-packages/matplotlib/colors.py\u001b[0m in \u001b[0;36m_to_rgba_no_colorcycle\u001b[0;34m(c, alpha)\u001b[0m\n\u001b[1;32m    255\u001b[0m             \u001b[0;32mif\u001b[0m \u001b[0;32mnot\u001b[0m \u001b[0;34m(\u001b[0m\u001b[0;36m0\u001b[0m \u001b[0;34m<=\u001b[0m \u001b[0mc\u001b[0m \u001b[0;34m<=\u001b[0m \u001b[0;36m1\u001b[0m\u001b[0;34m)\u001b[0m\u001b[0;34m:\u001b[0m\u001b[0;34m\u001b[0m\u001b[0;34m\u001b[0m\u001b[0m\n\u001b[0;32m--> 256\u001b[0;31m                 raise ValueError(\n\u001b[0m\u001b[1;32m    257\u001b[0m                     \u001b[0;34mf\"Invalid string grayscale value {orig_c!r}. \"\u001b[0m\u001b[0;34m\u001b[0m\u001b[0;34m\u001b[0m\u001b[0m\n",
      "\u001b[0;31mValueError\u001b[0m: Invalid string grayscale value '196'. Value must be within 0-1 range",
      "\nThe above exception was the direct cause of the following exception:\n",
      "\u001b[0;31mValueError\u001b[0m                                Traceback (most recent call last)",
      "\u001b[0;32m<ipython-input-83-c5a9c7483171>\u001b[0m in \u001b[0;36m<module>\u001b[0;34m\u001b[0m\n\u001b[1;32m      1\u001b[0m \u001b[0mplt\u001b[0m\u001b[0;34m.\u001b[0m\u001b[0mfigure\u001b[0m\u001b[0;34m(\u001b[0m\u001b[0mfigsize\u001b[0m\u001b[0;34m=\u001b[0m\u001b[0;34m(\u001b[0m\u001b[0;36m12\u001b[0m\u001b[0;34m,\u001b[0m\u001b[0;36m4\u001b[0m\u001b[0;34m)\u001b[0m\u001b[0;34m)\u001b[0m\u001b[0;34m\u001b[0m\u001b[0;34m\u001b[0m\u001b[0m\n\u001b[1;32m      2\u001b[0m \u001b[0mplt\u001b[0m\u001b[0;34m.\u001b[0m\u001b[0msubplot\u001b[0m\u001b[0;34m(\u001b[0m\u001b[0;36m121\u001b[0m\u001b[0;34m)\u001b[0m\u001b[0;34m\u001b[0m\u001b[0;34m\u001b[0m\u001b[0m\n\u001b[0;32m----> 3\u001b[0;31m \u001b[0mplt\u001b[0m\u001b[0;34m.\u001b[0m\u001b[0mscatter\u001b[0m\u001b[0;34m(\u001b[0m\u001b[0mX_train\u001b[0m\u001b[0;34m[\u001b[0m\u001b[0;34m:\u001b[0m\u001b[0;34m,\u001b[0m \u001b[0;36m0\u001b[0m\u001b[0;34m]\u001b[0m\u001b[0;34m,\u001b[0m \u001b[0mX_train\u001b[0m\u001b[0;34m[\u001b[0m\u001b[0;34m:\u001b[0m\u001b[0;34m,\u001b[0m \u001b[0;36m1\u001b[0m\u001b[0;34m]\u001b[0m\u001b[0;34m,\u001b[0m \u001b[0mc\u001b[0m\u001b[0;34m=\u001b[0m\u001b[0mY_train\u001b[0m\u001b[0;34m,\u001b[0m \u001b[0malpha\u001b[0m\u001b[0;34m=\u001b[0m\u001b[0;36m0.8\u001b[0m\u001b[0;34m)\u001b[0m\u001b[0;34m\u001b[0m\u001b[0;34m\u001b[0m\u001b[0m\n\u001b[0m\u001b[1;32m      4\u001b[0m \u001b[0mplt\u001b[0m\u001b[0;34m.\u001b[0m\u001b[0mtitle\u001b[0m\u001b[0;34m(\u001b[0m\u001b[0;34m'Train set'\u001b[0m\u001b[0;34m)\u001b[0m\u001b[0;34m\u001b[0m\u001b[0;34m\u001b[0m\u001b[0m\n\u001b[1;32m      5\u001b[0m \u001b[0mplt\u001b[0m\u001b[0;34m\u001b[0m\u001b[0;34m\u001b[0m\u001b[0m\n",
      "\u001b[0;32m~/opt/anaconda3/lib/python3.8/site-packages/matplotlib/pyplot.py\u001b[0m in \u001b[0;36mscatter\u001b[0;34m(x, y, s, c, marker, cmap, norm, vmin, vmax, alpha, linewidths, verts, edgecolors, plotnonfinite, data, **kwargs)\u001b[0m\n\u001b[1;32m   2888\u001b[0m         \u001b[0mverts\u001b[0m\u001b[0;34m=\u001b[0m\u001b[0mcbook\u001b[0m\u001b[0;34m.\u001b[0m\u001b[0mdeprecation\u001b[0m\u001b[0;34m.\u001b[0m\u001b[0m_deprecated_parameter\u001b[0m\u001b[0;34m,\u001b[0m\u001b[0;34m\u001b[0m\u001b[0;34m\u001b[0m\u001b[0m\n\u001b[1;32m   2889\u001b[0m         edgecolors=None, *, plotnonfinite=False, data=None, **kwargs):\n\u001b[0;32m-> 2890\u001b[0;31m     __ret = gca().scatter(\n\u001b[0m\u001b[1;32m   2891\u001b[0m         \u001b[0mx\u001b[0m\u001b[0;34m,\u001b[0m \u001b[0my\u001b[0m\u001b[0;34m,\u001b[0m \u001b[0ms\u001b[0m\u001b[0;34m=\u001b[0m\u001b[0ms\u001b[0m\u001b[0;34m,\u001b[0m \u001b[0mc\u001b[0m\u001b[0;34m=\u001b[0m\u001b[0mc\u001b[0m\u001b[0;34m,\u001b[0m \u001b[0mmarker\u001b[0m\u001b[0;34m=\u001b[0m\u001b[0mmarker\u001b[0m\u001b[0;34m,\u001b[0m \u001b[0mcmap\u001b[0m\u001b[0;34m=\u001b[0m\u001b[0mcmap\u001b[0m\u001b[0;34m,\u001b[0m \u001b[0mnorm\u001b[0m\u001b[0;34m=\u001b[0m\u001b[0mnorm\u001b[0m\u001b[0;34m,\u001b[0m\u001b[0;34m\u001b[0m\u001b[0;34m\u001b[0m\u001b[0m\n\u001b[1;32m   2892\u001b[0m         \u001b[0mvmin\u001b[0m\u001b[0;34m=\u001b[0m\u001b[0mvmin\u001b[0m\u001b[0;34m,\u001b[0m \u001b[0mvmax\u001b[0m\u001b[0;34m=\u001b[0m\u001b[0mvmax\u001b[0m\u001b[0;34m,\u001b[0m \u001b[0malpha\u001b[0m\u001b[0;34m=\u001b[0m\u001b[0malpha\u001b[0m\u001b[0;34m,\u001b[0m \u001b[0mlinewidths\u001b[0m\u001b[0;34m=\u001b[0m\u001b[0mlinewidths\u001b[0m\u001b[0;34m,\u001b[0m\u001b[0;34m\u001b[0m\u001b[0;34m\u001b[0m\u001b[0m\n",
      "\u001b[0;32m~/opt/anaconda3/lib/python3.8/site-packages/matplotlib/__init__.py\u001b[0m in \u001b[0;36minner\u001b[0;34m(ax, data, *args, **kwargs)\u001b[0m\n\u001b[1;32m   1445\u001b[0m     \u001b[0;32mdef\u001b[0m \u001b[0minner\u001b[0m\u001b[0;34m(\u001b[0m\u001b[0max\u001b[0m\u001b[0;34m,\u001b[0m \u001b[0;34m*\u001b[0m\u001b[0margs\u001b[0m\u001b[0;34m,\u001b[0m \u001b[0mdata\u001b[0m\u001b[0;34m=\u001b[0m\u001b[0;32mNone\u001b[0m\u001b[0;34m,\u001b[0m \u001b[0;34m**\u001b[0m\u001b[0mkwargs\u001b[0m\u001b[0;34m)\u001b[0m\u001b[0;34m:\u001b[0m\u001b[0;34m\u001b[0m\u001b[0;34m\u001b[0m\u001b[0m\n\u001b[1;32m   1446\u001b[0m         \u001b[0;32mif\u001b[0m \u001b[0mdata\u001b[0m \u001b[0;32mis\u001b[0m \u001b[0;32mNone\u001b[0m\u001b[0;34m:\u001b[0m\u001b[0;34m\u001b[0m\u001b[0;34m\u001b[0m\u001b[0m\n\u001b[0;32m-> 1447\u001b[0;31m             \u001b[0;32mreturn\u001b[0m \u001b[0mfunc\u001b[0m\u001b[0;34m(\u001b[0m\u001b[0max\u001b[0m\u001b[0;34m,\u001b[0m \u001b[0;34m*\u001b[0m\u001b[0mmap\u001b[0m\u001b[0;34m(\u001b[0m\u001b[0msanitize_sequence\u001b[0m\u001b[0;34m,\u001b[0m \u001b[0margs\u001b[0m\u001b[0;34m)\u001b[0m\u001b[0;34m,\u001b[0m \u001b[0;34m**\u001b[0m\u001b[0mkwargs\u001b[0m\u001b[0;34m)\u001b[0m\u001b[0;34m\u001b[0m\u001b[0;34m\u001b[0m\u001b[0m\n\u001b[0m\u001b[1;32m   1448\u001b[0m \u001b[0;34m\u001b[0m\u001b[0m\n\u001b[1;32m   1449\u001b[0m         \u001b[0mbound\u001b[0m \u001b[0;34m=\u001b[0m \u001b[0mnew_sig\u001b[0m\u001b[0;34m.\u001b[0m\u001b[0mbind\u001b[0m\u001b[0;34m(\u001b[0m\u001b[0max\u001b[0m\u001b[0;34m,\u001b[0m \u001b[0;34m*\u001b[0m\u001b[0margs\u001b[0m\u001b[0;34m,\u001b[0m \u001b[0;34m**\u001b[0m\u001b[0mkwargs\u001b[0m\u001b[0;34m)\u001b[0m\u001b[0;34m\u001b[0m\u001b[0;34m\u001b[0m\u001b[0m\n",
      "\u001b[0;32m~/opt/anaconda3/lib/python3.8/site-packages/matplotlib/cbook/deprecation.py\u001b[0m in \u001b[0;36mwrapper\u001b[0;34m(*inner_args, **inner_kwargs)\u001b[0m\n\u001b[1;32m    409\u001b[0m                          \u001b[0;32melse\u001b[0m \u001b[0mdeprecation_addendum\u001b[0m\u001b[0;34m,\u001b[0m\u001b[0;34m\u001b[0m\u001b[0;34m\u001b[0m\u001b[0m\n\u001b[1;32m    410\u001b[0m                 **kwargs)\n\u001b[0;32m--> 411\u001b[0;31m         \u001b[0;32mreturn\u001b[0m \u001b[0mfunc\u001b[0m\u001b[0;34m(\u001b[0m\u001b[0;34m*\u001b[0m\u001b[0minner_args\u001b[0m\u001b[0;34m,\u001b[0m \u001b[0;34m**\u001b[0m\u001b[0minner_kwargs\u001b[0m\u001b[0;34m)\u001b[0m\u001b[0;34m\u001b[0m\u001b[0;34m\u001b[0m\u001b[0m\n\u001b[0m\u001b[1;32m    412\u001b[0m \u001b[0;34m\u001b[0m\u001b[0m\n\u001b[1;32m    413\u001b[0m     \u001b[0;32mreturn\u001b[0m \u001b[0mwrapper\u001b[0m\u001b[0;34m\u001b[0m\u001b[0;34m\u001b[0m\u001b[0m\n",
      "\u001b[0;32m~/opt/anaconda3/lib/python3.8/site-packages/matplotlib/axes/_axes.py\u001b[0m in \u001b[0;36mscatter\u001b[0;34m(self, x, y, s, c, marker, cmap, norm, vmin, vmax, alpha, linewidths, verts, edgecolors, plotnonfinite, **kwargs)\u001b[0m\n\u001b[1;32m   4449\u001b[0m \u001b[0;34m\u001b[0m\u001b[0m\n\u001b[1;32m   4450\u001b[0m         \u001b[0mc\u001b[0m\u001b[0;34m,\u001b[0m \u001b[0mcolors\u001b[0m\u001b[0;34m,\u001b[0m \u001b[0medgecolors\u001b[0m \u001b[0;34m=\u001b[0m\u001b[0;31m \u001b[0m\u001b[0;31m\\\u001b[0m\u001b[0;34m\u001b[0m\u001b[0;34m\u001b[0m\u001b[0m\n\u001b[0;32m-> 4451\u001b[0;31m             self._parse_scatter_color_args(\n\u001b[0m\u001b[1;32m   4452\u001b[0m                 \u001b[0mc\u001b[0m\u001b[0;34m,\u001b[0m \u001b[0medgecolors\u001b[0m\u001b[0;34m,\u001b[0m \u001b[0mkwargs\u001b[0m\u001b[0;34m,\u001b[0m \u001b[0mx\u001b[0m\u001b[0;34m.\u001b[0m\u001b[0msize\u001b[0m\u001b[0;34m,\u001b[0m\u001b[0;34m\u001b[0m\u001b[0;34m\u001b[0m\u001b[0m\n\u001b[1;32m   4453\u001b[0m                 get_next_color_func=self._get_patches_for_fill.get_next_color)\n",
      "\u001b[0;32m~/opt/anaconda3/lib/python3.8/site-packages/matplotlib/axes/_axes.py\u001b[0m in \u001b[0;36m_parse_scatter_color_args\u001b[0;34m(c, edgecolors, kwargs, xsize, get_next_color_func)\u001b[0m\n\u001b[1;32m   4298\u001b[0m                     \u001b[0;31m# Both the mapping *and* the RGBA conversion failed: pretty\u001b[0m\u001b[0;34m\u001b[0m\u001b[0;34m\u001b[0m\u001b[0;34m\u001b[0m\u001b[0m\n\u001b[1;32m   4299\u001b[0m                     \u001b[0;31m# severe failure => one may appreciate a verbose feedback.\u001b[0m\u001b[0;34m\u001b[0m\u001b[0;34m\u001b[0m\u001b[0;34m\u001b[0m\u001b[0m\n\u001b[0;32m-> 4300\u001b[0;31m                     raise ValueError(\n\u001b[0m\u001b[1;32m   4301\u001b[0m                         \u001b[0;34mf\"'c' argument must be a color, a sequence of colors, \"\u001b[0m\u001b[0;34m\u001b[0m\u001b[0;34m\u001b[0m\u001b[0m\n\u001b[1;32m   4302\u001b[0m                         f\"or a sequence of numbers, not {c}\") from err\n",
      "\u001b[0;31mValueError\u001b[0m: 'c' argument must be a color, a sequence of colors, or a sequence of numbers, not ['196' '283' '20' ... '134' '725' '317']"
     ]
    },
    {
     "data": {
      "image/png": "[encoded data removed]",
      "text/plain": [
       "<Figure size 864x288 with 1 Axes>"
      ]
     },
     "metadata": {
      "needs_background": "light"
     },
     "output_type": "display_data"
    }
   ],
   "source": [
    "plt.figure(figsize=(12,4))\n",
    "plt.subplot(121)\n",
    "plt.scatter(X_train[:, 0], X_train[:, 1], c=Y_train, alpha=0.8)\n",
    "plt.title('Train set')\n",
    "plt\n",
    "\n"
   ]
  },
  {
   "cell_type": "code",
   "execution_count": null,
   "id": "9e55be34",
   "metadata": {},
   "outputs": [],
   "source": []
  },
  {
   "cell_type": "code",
   "execution_count": null,
   "id": "345473fe",
   "metadata": {},
   "outputs": [],
   "source": []
  },
  {
   "cell_type": "code",
   "execution_count": null,
   "id": "0bd29ed2",
   "metadata": {},
   "outputs": [],
   "source": []
  },
  {
   "cell_type": "code",
   "execution_count": null,
   "id": "52507aa8",
   "metadata": {},
   "outputs": [],
   "source": []
  },
  {
   "cell_type": "code",
   "execution_count": null,
   "id": "d37ac1aa",
   "metadata": {},
   "outputs": [],
   "source": []
  },
  {
   "cell_type": "code",
   "execution_count": null,
   "id": "120678f4",
   "metadata": {},
   "outputs": [],
   "source": [
    "\n"
   ]
  },
  {
   "cell_type": "code",
   "execution_count": null,
   "id": "286959d4",
   "metadata": {},
   "outputs": [],
   "source": []
  },
  {
   "cell_type": "code",
   "execution_count": null,
   "id": "eb123487",
   "metadata": {},
   "outputs": [],
   "source": []
  },
  {
   "cell_type": "code",
   "execution_count": null,
   "id": "22d2d08d",
   "metadata": {},
   "outputs": [],
   "source": []
  },
  {
   "cell_type": "markdown",
   "id": "5b8c50cc",
   "metadata": {},
   "source": [
    "## B.2 Optimisations\n",
    "\n",
    "Aide: regardez les codes dans `2022-91.2-exemple-Optimization1Hyper-param.ipynb` et dans `TP-PCA+SVM-parties1-2-3-enonce.ipynb`\n",
    "\n",
    "> Cette partie consiste à travailler à fond, et donc à expérimenter concrètement sur le choix du modèle (cf. la\n",
    "spéculation demandée en question (e) du TD 5. C’est donc surtout une partie qui fait écho aux exercices 6,\n",
    "et plus particulièrement 6.2,6.3.\n",
    "Cette étape peut être itérée plusieurs fois, selon que vos résultats vous semblent suffisamment satisfaisants.\n",
    "\n",
    "#### 2.1 Architecture\n",
    "> Il va falloir choisir une architecture, c.a.d. le genre de modèle de ML utilisé pour fitter ou modéliser les données (“apprendre” quelque chose).\n",
    ">\n",
    "> On rappelle ici les méthodes qui seront vues en cours (liste approximative):\n",
    "> \n",
    "> Pre-processings:\n",
    "> - standardization\n",
    "> - PCA \n",
    "> - équilibrage des classes (différentes stratégies possibles)\n",
    "> \n",
    "> Algos de classification ou régression:\n",
    "> - Régression (linéaire ou polynomiale)\n",
    "> - Perceptron (à une couche)\n",
    "> - SVC (SVM, pour la Classification)\n",
    "> - SVR (SVM, pour la Regression)\n",
    "> - Decision Trees\n",
    "> - Regression Trees\n",
    "> - Modèle Bayésien Naïf (Bernoulli ou Gauss ou autre) (utile pour la classif de texte)\n",
    "> - K-Nearest Neighbors (classif)\n",
    "> \n",
    "> A combiner avec (Certaines des) méthodes précédentes:\n",
    "> - Feature Maps / Kernels Noyaux -- polynomial, RBF  (Les feature maps peuvent etre vues comme un pre-processing, mais un Kernel doit etre appliqué à la volée).\n",
    "\n",
    "\n",
    "#### 2.2 Choix d’hyper-paramètres\n",
    "\n",
    "> Pour chaque méthode (dans sklearn), il y a en général un certain nombre d’hyper-paramètres associés, qu’il\n",
    "> vous est nécessaire de choisir. Il y a parfois aussi des paramètres de méthode qui servent seulement à imposer la\n",
    "> méthode de résolution numérique du modèle. On ne vous demande pas spécialement d’optimiser ces paramètres\n",
    "> là.\n",
    "> \n",
    "> Remarque/rappel: le choix de l’architecture est en soi un hyper-paramètre. La taille du training set en est\n",
    "> aussi un.\n",
    "> \n",
    "> Lorsque vous chercherez à optimiser des hyper-paramètres, n’oubliez pas :\n",
    "> - De mettre en place une cross-validation\n",
    "> - de tracer les résultats sous forme graphique (et pas seulement afficher des chiffres)\n",
    "> - Ne vous lancez pas dans une recherche systématique sur plus de 2 hyper-paramètres à la fois\n",
    "> - Si les calculs sont très lents, réduisez la taille du train set, mais seulement tant que ça vous coûte peu en termes > de performance.\n",
    "> - Si les calculs sont très lents, envisagez de comprimer les features d’entrée (PCA), même si ça vous coûte un peu en > termes de performance.\n"
   ]
  },
  {
   "cell_type": "code",
   "execution_count": null,
   "id": "3834c1c1",
   "metadata": {},
   "outputs": [],
   "source": [
    "from sklearn.ensemble import RandomForestRegressor\n",
    "model_forest = RandomForestRegressor(n_estimators = 10, random_state = 0)"
   ]
  },
  {
   "cell_type": "code",
   "execution_count": null,
   "id": "4c8ece3b",
   "metadata": {},
   "outputs": [],
   "source": [
    "model_forest.fit(X_train, Y_train)"
   ]
  },
  {
   "cell_type": "code",
   "execution_count": null,
   "id": "66cf52ca",
   "metadata": {},
   "outputs": [],
   "source": []
  },
  {
   "cell_type": "code",
   "execution_count": null,
   "id": "88e003ce",
   "metadata": {},
   "outputs": [],
   "source": [
    "train(X_train, X_test, Y_train, Y_test,model_forest)"
   ]
  },
  {
   "cell_type": "code",
   "execution_count": null,
   "id": "e88dde74",
   "metadata": {},
   "outputs": [],
   "source": []
  },
  {
   "cell_type": "markdown",
   "id": "622c2f06",
   "metadata": {},
   "source": [
    "## C.1 3  Test set, présentation des résultats\n",
    "\n",
    "Vous êtes sûrs de votre coup ? Vous avez bien exploité le validation set, mesuré par cross-validation, estimé l'intervalle d'incertitude ?\n",
    "Ok, allez y sur le test set ! \n",
    "\n",
    "> Pensez à regarder les différentes mesures de scores envisagées au départ sur l’ensemble de validation (une fois\n",
    "> vos hyper-paramètres fixés). Vérifiez qu’il n’y a pas un gros problème que vous n’auriez pas vu. Si les résultats\n",
    "> sont raisonnablement satisfaisants, allez y avec le test set ! (Bref, ne trichez pas lors du test !)\n",
    "> \n",
    "> Lorsque vous présenterez vos résultats (mesures de score, performances), vous mettrez en avant les perfor-\n",
    "> mances sur le test set, mais il est bon de les accompagner des performances mesurées sur le validation set, et\n",
    "> sur le train set, pour permettre de comparer. \n",
    "**(toutes choses égales par ailleurs, évidemment, donc avec les mêmes hyper-paramètres)**\n",
    "> \n",
    "> Pour l’analyse plus qualitative des prédictions, certaines visualisations ne permettent pas de présenter simultanément plusieurs résultats (par exemple si ce sont des images reconstruites, etc). Dans ce cas, privilégiez\n",
    "> toujours le test set.\n",
    "> \n",
    "> Ne vous focalisez pas seulement sur la performance quantitative (la valeur du score), essayez d’analyser la\n",
    "> façon dont les résultats dépendent de vos choix (même si le niveau total n’est “pas très bon”).\n",
    "**Évidemment, si vous voulez présenter l'impact d'un hyper-paramètre sur le score, logiquement, il faut le faire sur le validation set (en tout cas, observer ça sur le test set n'autorise pas à changer d'avis sur les hyper-paramètres**"
   ]
  },
  {
   "cell_type": "code",
   "execution_count": null,
   "id": "5243553d",
   "metadata": {},
   "outputs": [],
   "source": []
  },
  {
   "cell_type": "code",
   "execution_count": null,
   "id": "d0a5ed5d",
   "metadata": {},
   "outputs": [],
   "source": []
  },
  {
   "cell_type": "code",
   "execution_count": null,
   "id": "02b72760",
   "metadata": {},
   "outputs": [],
   "source": []
  },
  {
   "cell_type": "code",
   "execution_count": null,
   "id": "69f0dbe8",
   "metadata": {},
   "outputs": [],
   "source": []
  },
  {
   "cell_type": "code",
   "execution_count": null,
   "id": "6ae0c9b0",
   "metadata": {},
   "outputs": [],
   "source": []
  },
  {
   "cell_type": "markdown",
   "id": "ce4bf264",
   "metadata": {},
   "source": [
    "## D. Préparez l'oral !!\n",
    "\n",
    "Mais ça ne se passe pas dans un jupyter notebook ! :P\n",
    "\n",
    "voir les pages 28-31 du poly pour des conseils pour l'oral !"
   ]
  },
  {
   "cell_type": "code",
   "execution_count": null,
   "id": "7c581756",
   "metadata": {},
   "outputs": [],
   "source": []
  }
 ],
 "metadata": {
  "kernelspec": {
   "display_name": "Python 3",
   "language": "python",
   "name": "python3"
  },
  "language_info": {
   "codemirror_mode": {
    "name": "ipython",
    "version": 3
   },
   "file_extension": ".py",
   "mimetype": "text/x-python",
   "name": "python",
   "nbconvert_exporter": "python",
   "pygments_lexer": "ipython3",
   "version": "3.8.8"
  }
 },
 "nbformat": 4,
 "nbformat_minor": 5
}
